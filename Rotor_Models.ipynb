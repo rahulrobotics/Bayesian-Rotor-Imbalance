{
 "cells": [
  {
   "cell_type": "code",
   "execution_count": 1,
   "id": "93b2c544",
   "metadata": {},
   "outputs": [
    {
     "name": "stderr",
     "output_type": "stream",
     "text": [
      "WARNING (theano.configdefaults): g++ not available, if using conda: `conda install m2w64-toolchain`\n",
      "WARNING (theano.configdefaults): g++ not detected ! Theano will be unable to execute optimized C-implementations (for both CPU and GPU) and will default to Python implementations. Performance will be severely degraded. To remove this warning, set Theano flags cxx to an empty string.\n",
      "WARNING (theano.tensor.blas): Using NumPy C-API based implementation for BLAS functions.\n"
     ]
    }
   ],
   "source": [
    "import ross as rs\n",
    "import numpy as np\n",
    "import math\n",
    "from scipy.optimize import least_squares \n",
    "import pymc3 as pm\n",
    "import arviz as az\n",
    "import theano.tensor as tt\n",
    "import pickle\n",
    "import plotly\n",
    "import matplotlib.pyplot as plt"
   ]
  },
  {
   "cell_type": "code",
   "execution_count": 2,
   "id": "cfca3ce1",
   "metadata": {},
   "outputs": [],
   "source": [
    "#--------------------------------------- define \"real\" rotor and simulated rotor----------------------------------------\n",
    "steel = rs.Material(name=\"Steel\", rho=7810, E=211e9, G_s=81.2e9)\n",
    "\n",
    "n = 2\n",
    "\n",
    "shaft_elem = [\n",
    "    rs.ShaftElement(\n",
    "        L=0.25,\n",
    "        idl=0.0,\n",
    "        odl=0.05,\n",
    "        material=steel,\n",
    "        shear_effects=True,\n",
    "        rotary_inertia=True,\n",
    "        gyroscopic = True\n",
    "    )\n",
    "    for _ in range(n)\n",
    "]\n",
    "\n",
    "disk0 = rs.DiskElement.from_geometry(\n",
    "    n=1, material=steel, width=0.07, i_d=0.05, o_d=0.28\n",
    ")\n",
    "\n",
    "disks = [disk0]\n",
    "\n",
    "stfx_real = 1e6\n",
    "stfy_real = 0.8e6\n",
    "dampx_real = 5e3\n",
    "dampy_real = 5e3\n",
    "bearing0_real = rs.BearingElement(0, kxx=stfx_real, kyy=stfy_real, cxx = dampx_real, cyy = dampy_real)\n",
    "bearing1_real = rs.BearingElement(2, kxx=stfx_real, kyy=stfy_real, cxx = dampx_real, cyy = dampy_real)\n",
    "\n",
    "bearings_real = [bearing0_real, bearing1_real]\n",
    "\n",
    "rotor_real = rs.Rotor(shaft_elem, disks, bearings_real)\n",
    "\n",
    "stfx_sim = 1e6\n",
    "stfy_sim = 1e6\n",
    "bearing0_sim = rs.BearingElement(0, kxx=stfx_sim, kyy=stfy_sim, cxx = 0, cyy = 0)\n",
    "bearing1_sim = rs.BearingElement(2, kxx=stfx_sim, kyy=stfy_sim, cxx = 0, cyy = 0)\n",
    "\n",
    "bearings_sim = [bearing0_sim, bearing1_sim]\n",
    "\n",
    "rotor_sim = rs.Rotor(shaft_elem, disks, bearings_sim)\n",
    "\n",
    "# plotting rotor model\n",
    "\n",
    "fig_rotor_real = rotor_real.plot_rotor()\n",
    "fig_rotor_real.write_image(\"rotor_diagram.png\")"
   ]
  },
  {
   "cell_type": "code",
   "execution_count": 3,
   "id": "80be12bc",
   "metadata": {},
   "outputs": [],
   "source": [
    "#---------------------------------------- important variables-----------------------------------------------------------\n",
    "SAMPLES = 61\n",
    "FREQUENCY_RANGE = np.linspace(315, 1150, SAMPLES)\n",
    "DISK_NODE = 1\n",
    "SIGMA_TRUE = 0.01 \n",
    "IMBALANCE_MAGNITUDE = 0.03\n",
    "IMBALANCE_PHASE = 0"
   ]
  },
  {
   "cell_type": "code",
   "execution_count": 4,
   "id": "1d0d4c64",
   "metadata": {},
   "outputs": [],
   "source": [
    "#-------------------------------------------return imbalance frequency response-----------------------------------------\n",
    "def getImbalanceResponse(rotor_model, obs_node, magnitude, phase, frequency_range):\n",
    "    '''\n",
    "    rotor_model: the rotor object defined using ROSS library\n",
    "    obs_node: node at which imbalance force is to be applied\n",
    "    magnitude: magnitude of imbalance\n",
    "    phase: phase of imbalance (Radians)\n",
    "    frequency_range: range of frequencies which are being considered\n",
    "    return:\n",
    "        results: a results object\n",
    "        fr: a matrix of the magnitudes and phases in the x and y directions\n",
    "    '''\n",
    "    probex = (1, 0)\n",
    "    probey = (1, 90)\n",
    "\n",
    "    results = rotor_model.run_unbalance_response(obs_node, magnitude, phase, frequency_range)\n",
    "    x_mag = results.data_magnitude(probe=[probex], probe_units=\"degrees\").loc[:, 'Probe 1 - Node 1'].values\n",
    "    x_phase = results.data_phase(probe=[probex], probe_units=\"degrees\").loc[:, 'Probe 1 - Node 1'].values\n",
    "    y_mag = results.data_magnitude(probe=[probey], probe_units=\"degrees\").loc[:, 'Probe 1 - Node 1'].values\n",
    "    y_phase = results.data_phase(probe=[probey], probe_units=\"degrees\").loc[:, 'Probe 1 - Node 1'].values\n",
    "    fr = np.vstack((x_mag, x_phase, y_mag, y_phase)).T\n",
    "\n",
    "    return results, fr"
   ]
  },
  {
   "cell_type": "code",
   "execution_count": 17,
   "id": "ce2e1efb",
   "metadata": {},
   "outputs": [
    {
     "data": {
      "application/vnd.plotly.v1+json": {
       "config": {
        "plotlyServerURL": "https://plot.ly"
       },
       "data": [
        {
         "hovertemplate": "Frequency (rad/s): %{x:.2f}<br>Amplitude (m): %{y:.2e}",
         "legendgroup": "Probe 1 - Node 1",
         "line": {
          "color": "blue"
         },
         "mode": "lines",
         "name": "Probe 1 - Node 1",
         "showlegend": true,
         "type": "scatter",
         "x": [
          315,
          328.9166666666667,
          342.8333333333333,
          356.75,
          370.6666666666667,
          384.5833333333333,
          398.5,
          412.41666666666663,
          426.3333333333333,
          440.25,
          454.16666666666663,
          468.0833333333333,
          482,
          495.91666666666663,
          509.8333333333333,
          523.75,
          537.6666666666666,
          551.5833333333333,
          565.5,
          579.4166666666666,
          593.3333333333333,
          607.25,
          621.1666666666666,
          635.0833333333333,
          649,
          662.9166666666666,
          676.8333333333333,
          690.75,
          704.6666666666666,
          718.5833333333333,
          732.5,
          746.4166666666666,
          760.3333333333333,
          774.25,
          788.1666666666666,
          802.0833333333333,
          816,
          829.9166666666666,
          843.8333333333333,
          857.75,
          871.6666666666666,
          885.5833333333333,
          899.5,
          913.4166666666666,
          927.3333333333333,
          941.25,
          955.1666666666666,
          969.0833333333333,
          983,
          996.9166666666666,
          1010.8333333333333,
          1024.75,
          1038.6666666666665,
          1052.5833333333333,
          1066.5,
          1080.4166666666665,
          1094.3333333333333,
          1108.25,
          1122.1666666666665,
          1136.0833333333333,
          1150
         ],
         "y": [
          0.0008431326720384942,
          0.0008528852483906485,
          0.0008605342410792324,
          0.0008663114771292211,
          0.0008704954110594749,
          0.0008733646485164354,
          0.0008751736627758056,
          0.0008761428581313044,
          0.0008764568345831736,
          0.0008762668031432105,
          0.0008756947427522742,
          0.0008748379813131883,
          0.0008737735456845618,
          0.0008725620016702811,
          0.0008712507056806374,
          0.0008698764885941367,
          0.0008684678349239086,
          0.0008670466333323052,
          0.0008656295729881355,
          0.000864229252370889,
          0.000862855057229958,
          0.0008615138545771735,
          0.0008602105407473203,
          0.0008589484740281297,
          0.0008577298161229809,
          0.0008565558016556308,
          0.0008554269508800681,
          0.0008543432375444989,
          0.0008533042213192203,
          0.0008523091522017041,
          0.0008513570527395899,
          0.0008504467826793595,
          0.0008495770896804931,
          0.0008487466489723717,
          0.0008479540942323638,
          0.0008471980414936689,
          0.0008464771075163507,
          0.0008457899237643966,
          0.0008451351468963473,
          0.0008445114664942422,
          0.0008439176106090523,
          0.0008433523495832188,
          0.000842814498519904,
          0.0008423029186929969,
          0.0008418165181335196,
          0.0008413542515811101,
          0.0008409151199498188,
          0.0008404981694291291,
          0.0008401024903151329,
          0.0008397272156479223,
          0.0008393715197147829,
          0.0008390346164677813,
          0.0008387157578915921,
          0.0008384142323515966,
          0.0008381293629444042,
          0.0008378605058680089,
          0.000837607048824647,
          0.0008373684094658706,
          0.000837144033886927,
          0.0008369333951747189,
          0.0008367359920131947
         ]
        }
       ],
       "layout": {
        "showlegend": false,
        "template": {
         "data": {
          "bar": [
           {
            "error_x": {
             "color": "#2a3f5f"
            },
            "error_y": {
             "color": "#2a3f5f"
            },
            "marker": {
             "line": {
              "color": "white",
              "width": 0.5
             }
            },
            "type": "bar"
           }
          ],
          "barpolar": [
           {
            "marker": {
             "line": {
              "color": "white",
              "width": 0.5
             }
            },
            "type": "barpolar"
           }
          ],
          "carpet": [
           {
            "aaxis": {
             "endlinecolor": "#2a3f5f",
             "gridcolor": "#C8D4E3",
             "linecolor": "#C8D4E3",
             "minorgridcolor": "#C8D4E3",
             "startlinecolor": "#2a3f5f"
            },
            "baxis": {
             "endlinecolor": "#2a3f5f",
             "gridcolor": "#C8D4E3",
             "linecolor": "#C8D4E3",
             "minorgridcolor": "#C8D4E3",
             "startlinecolor": "#2a3f5f"
            },
            "type": "carpet"
           }
          ],
          "choropleth": [
           {
            "colorbar": {
             "outlinewidth": 0,
             "ticks": ""
            },
            "type": "choropleth"
           }
          ],
          "contour": [
           {
            "colorbar": {
             "outlinewidth": 0,
             "ticks": ""
            },
            "colorscale": [
             [
              0,
              "#0d0887"
             ],
             [
              0.1111111111111111,
              "#46039f"
             ],
             [
              0.2222222222222222,
              "#7201a8"
             ],
             [
              0.3333333333333333,
              "#9c179e"
             ],
             [
              0.4444444444444444,
              "#bd3786"
             ],
             [
              0.5555555555555556,
              "#d8576b"
             ],
             [
              0.6666666666666666,
              "#ed7953"
             ],
             [
              0.7777777777777778,
              "#fb9f3a"
             ],
             [
              0.8888888888888888,
              "#fdca26"
             ],
             [
              1,
              "#f0f921"
             ]
            ],
            "type": "contour"
           }
          ],
          "contourcarpet": [
           {
            "colorbar": {
             "outlinewidth": 0,
             "ticks": ""
            },
            "type": "contourcarpet"
           }
          ],
          "heatmap": [
           {
            "colorbar": {
             "outlinewidth": 0,
             "ticks": ""
            },
            "colorscale": [
             [
              0,
              "#0d0887"
             ],
             [
              0.1111111111111111,
              "#46039f"
             ],
             [
              0.2222222222222222,
              "#7201a8"
             ],
             [
              0.3333333333333333,
              "#9c179e"
             ],
             [
              0.4444444444444444,
              "#bd3786"
             ],
             [
              0.5555555555555556,
              "#d8576b"
             ],
             [
              0.6666666666666666,
              "#ed7953"
             ],
             [
              0.7777777777777778,
              "#fb9f3a"
             ],
             [
              0.8888888888888888,
              "#fdca26"
             ],
             [
              1,
              "#f0f921"
             ]
            ],
            "type": "heatmap"
           }
          ],
          "heatmapgl": [
           {
            "colorbar": {
             "outlinewidth": 0,
             "ticks": ""
            },
            "colorscale": [
             [
              0,
              "#0d0887"
             ],
             [
              0.1111111111111111,
              "#46039f"
             ],
             [
              0.2222222222222222,
              "#7201a8"
             ],
             [
              0.3333333333333333,
              "#9c179e"
             ],
             [
              0.4444444444444444,
              "#bd3786"
             ],
             [
              0.5555555555555556,
              "#d8576b"
             ],
             [
              0.6666666666666666,
              "#ed7953"
             ],
             [
              0.7777777777777778,
              "#fb9f3a"
             ],
             [
              0.8888888888888888,
              "#fdca26"
             ],
             [
              1,
              "#f0f921"
             ]
            ],
            "type": "heatmapgl"
           }
          ],
          "histogram": [
           {
            "marker": {
             "colorbar": {
              "outlinewidth": 0,
              "ticks": ""
             }
            },
            "type": "histogram"
           }
          ],
          "histogram2d": [
           {
            "colorbar": {
             "outlinewidth": 0,
             "ticks": ""
            },
            "colorscale": [
             [
              0,
              "#0d0887"
             ],
             [
              0.1111111111111111,
              "#46039f"
             ],
             [
              0.2222222222222222,
              "#7201a8"
             ],
             [
              0.3333333333333333,
              "#9c179e"
             ],
             [
              0.4444444444444444,
              "#bd3786"
             ],
             [
              0.5555555555555556,
              "#d8576b"
             ],
             [
              0.6666666666666666,
              "#ed7953"
             ],
             [
              0.7777777777777778,
              "#fb9f3a"
             ],
             [
              0.8888888888888888,
              "#fdca26"
             ],
             [
              1,
              "#f0f921"
             ]
            ],
            "type": "histogram2d"
           }
          ],
          "histogram2dcontour": [
           {
            "colorbar": {
             "outlinewidth": 0,
             "ticks": ""
            },
            "colorscale": [
             [
              0,
              "#0d0887"
             ],
             [
              0.1111111111111111,
              "#46039f"
             ],
             [
              0.2222222222222222,
              "#7201a8"
             ],
             [
              0.3333333333333333,
              "#9c179e"
             ],
             [
              0.4444444444444444,
              "#bd3786"
             ],
             [
              0.5555555555555556,
              "#d8576b"
             ],
             [
              0.6666666666666666,
              "#ed7953"
             ],
             [
              0.7777777777777778,
              "#fb9f3a"
             ],
             [
              0.8888888888888888,
              "#fdca26"
             ],
             [
              1,
              "#f0f921"
             ]
            ],
            "type": "histogram2dcontour"
           }
          ],
          "mesh3d": [
           {
            "colorbar": {
             "outlinewidth": 0,
             "ticks": ""
            },
            "type": "mesh3d"
           }
          ],
          "parcoords": [
           {
            "line": {
             "colorbar": {
              "outlinewidth": 0,
              "ticks": ""
             }
            },
            "type": "parcoords"
           }
          ],
          "pie": [
           {
            "automargin": true,
            "type": "pie"
           }
          ],
          "scatter": [
           {
            "marker": {
             "colorbar": {
              "outlinewidth": 0,
              "ticks": ""
             }
            },
            "type": "scatter"
           }
          ],
          "scatter3d": [
           {
            "line": {
             "colorbar": {
              "outlinewidth": 0,
              "ticks": ""
             }
            },
            "marker": {
             "colorbar": {
              "outlinewidth": 0,
              "ticks": ""
             }
            },
            "type": "scatter3d"
           }
          ],
          "scattercarpet": [
           {
            "marker": {
             "colorbar": {
              "outlinewidth": 0,
              "ticks": ""
             }
            },
            "type": "scattercarpet"
           }
          ],
          "scattergeo": [
           {
            "marker": {
             "colorbar": {
              "outlinewidth": 0,
              "ticks": ""
             }
            },
            "type": "scattergeo"
           }
          ],
          "scattergl": [
           {
            "marker": {
             "colorbar": {
              "outlinewidth": 0,
              "ticks": ""
             }
            },
            "type": "scattergl"
           }
          ],
          "scattermapbox": [
           {
            "marker": {
             "colorbar": {
              "outlinewidth": 0,
              "ticks": ""
             }
            },
            "type": "scattermapbox"
           }
          ],
          "scatterpolar": [
           {
            "marker": {
             "colorbar": {
              "outlinewidth": 0,
              "ticks": ""
             }
            },
            "type": "scatterpolar"
           }
          ],
          "scatterpolargl": [
           {
            "marker": {
             "colorbar": {
              "outlinewidth": 0,
              "ticks": ""
             }
            },
            "type": "scatterpolargl"
           }
          ],
          "scatterternary": [
           {
            "marker": {
             "colorbar": {
              "outlinewidth": 0,
              "ticks": ""
             }
            },
            "type": "scatterternary"
           }
          ],
          "surface": [
           {
            "colorbar": {
             "outlinewidth": 0,
             "ticks": ""
            },
            "colorscale": [
             [
              0,
              "#0d0887"
             ],
             [
              0.1111111111111111,
              "#46039f"
             ],
             [
              0.2222222222222222,
              "#7201a8"
             ],
             [
              0.3333333333333333,
              "#9c179e"
             ],
             [
              0.4444444444444444,
              "#bd3786"
             ],
             [
              0.5555555555555556,
              "#d8576b"
             ],
             [
              0.6666666666666666,
              "#ed7953"
             ],
             [
              0.7777777777777778,
              "#fb9f3a"
             ],
             [
              0.8888888888888888,
              "#fdca26"
             ],
             [
              1,
              "#f0f921"
             ]
            ],
            "type": "surface"
           }
          ],
          "table": [
           {
            "cells": {
             "fill": {
              "color": "#EBF0F8"
             },
             "line": {
              "color": "white"
             }
            },
            "header": {
             "fill": {
              "color": "#C8D4E3"
             },
             "line": {
              "color": "white"
             }
            },
            "type": "table"
           }
          ]
         },
         "layout": {
          "annotationdefaults": {
           "arrowcolor": "#2a3f5f",
           "arrowhead": 0,
           "arrowwidth": 1
          },
          "coloraxis": {
           "colorbar": {
            "outlinewidth": 0,
            "ticks": ""
           }
          },
          "colorscale": {
           "diverging": [
            [
             0,
             "#8e0152"
            ],
            [
             0.1,
             "#c51b7d"
            ],
            [
             0.2,
             "#de77ae"
            ],
            [
             0.3,
             "#f1b6da"
            ],
            [
             0.4,
             "#fde0ef"
            ],
            [
             0.5,
             "#f7f7f7"
            ],
            [
             0.6,
             "#e6f5d0"
            ],
            [
             0.7,
             "#b8e186"
            ],
            [
             0.8,
             "#7fbc41"
            ],
            [
             0.9,
             "#4d9221"
            ],
            [
             1,
             "#276419"
            ]
           ],
           "sequential": [
            [
             0,
             "#0d0887"
            ],
            [
             0.1111111111111111,
             "#46039f"
            ],
            [
             0.2222222222222222,
             "#7201a8"
            ],
            [
             0.3333333333333333,
             "#9c179e"
            ],
            [
             0.4444444444444444,
             "#bd3786"
            ],
            [
             0.5555555555555556,
             "#d8576b"
            ],
            [
             0.6666666666666666,
             "#ed7953"
            ],
            [
             0.7777777777777778,
             "#fb9f3a"
            ],
            [
             0.8888888888888888,
             "#fdca26"
            ],
            [
             1,
             "#f0f921"
            ]
           ],
           "sequentialminus": [
            [
             0,
             "#0d0887"
            ],
            [
             0.1111111111111111,
             "#46039f"
            ],
            [
             0.2222222222222222,
             "#7201a8"
            ],
            [
             0.3333333333333333,
             "#9c179e"
            ],
            [
             0.4444444444444444,
             "#bd3786"
            ],
            [
             0.5555555555555556,
             "#d8576b"
            ],
            [
             0.6666666666666666,
             "#ed7953"
            ],
            [
             0.7777777777777778,
             "#fb9f3a"
            ],
            [
             0.8888888888888888,
             "#fdca26"
            ],
            [
             1,
             "#f0f921"
            ]
           ]
          },
          "colorway": [
           "#1f77b4",
           "#ff7f0e",
           "#2ca02c",
           "#d62728",
           "#9467bd",
           "#8c564b",
           "#e377c2",
           "#7f7f7f",
           "#bcbd22",
           "#17becf"
          ],
          "font": {
           "color": "#2a3f5f"
          },
          "geo": {
           "bgcolor": "white",
           "lakecolor": "white",
           "landcolor": "white",
           "showlakes": true,
           "showland": true,
           "subunitcolor": "#C8D4E3"
          },
          "hoverlabel": {
           "align": "left"
          },
          "hovermode": "closest",
          "mapbox": {
           "style": "light"
          },
          "paper_bgcolor": "white",
          "plot_bgcolor": "white",
          "polar": {
           "angularaxis": {
            "gridcolor": "#EBF0F8",
            "linecolor": "#EBF0F8",
            "ticks": ""
           },
           "bgcolor": "white",
           "radialaxis": {
            "gridcolor": "#EBF0F8",
            "linecolor": "#EBF0F8",
            "ticks": ""
           }
          },
          "scene": {
           "camera": {
            "center": {
             "x": 0,
             "y": 0,
             "z": 0
            },
            "eye": {
             "x": 2,
             "y": 2,
             "z": 2
            },
            "up": {
             "x": 0,
             "y": 0,
             "z": 1
            }
           },
           "xaxis": {
            "backgroundcolor": "white",
            "gridcolor": "#DFE8F3",
            "gridwidth": 2,
            "linecolor": "#EBF0F8",
            "showbackground": true,
            "showspikes": false,
            "ticks": "",
            "zerolinecolor": "#EBF0F8"
           },
           "yaxis": {
            "backgroundcolor": "white",
            "gridcolor": "#DFE8F3",
            "gridwidth": 2,
            "linecolor": "#EBF0F8",
            "showbackground": true,
            "showspikes": false,
            "ticks": "",
            "zerolinecolor": "#EBF0F8"
           },
           "zaxis": {
            "backgroundcolor": "white",
            "gridcolor": "#DFE8F3",
            "gridwidth": 2,
            "linecolor": "#EBF0F8",
            "showbackground": true,
            "showspikes": false,
            "ticks": "",
            "zerolinecolor": "#EBF0F8"
           }
          },
          "shapedefaults": {
           "line": {
            "color": "#2a3f5f"
           }
          },
          "ternary": {
           "aaxis": {
            "gridcolor": "#DFE8F3",
            "linecolor": "#A2B1C6",
            "ticks": ""
           },
           "baxis": {
            "gridcolor": "#DFE8F3",
            "linecolor": "#A2B1C6",
            "ticks": ""
           },
           "bgcolor": "white",
           "caxis": {
            "gridcolor": "#DFE8F3",
            "linecolor": "#A2B1C6",
            "ticks": ""
           }
          },
          "title": {
           "x": 0.05
          },
          "xaxis": {
           "automargin": true,
           "gridcolor": "#EBF0F8",
           "linecolor": "black",
           "linewidth": 2,
           "mirror": true,
           "showline": true,
           "ticks": "",
           "title": {
            "standoff": 15
           },
           "zeroline": false,
           "zerolinecolor": "#EBF0F8",
           "zerolinewidth": 2
          },
          "yaxis": {
           "automargin": true,
           "gridcolor": "#EBF0F8",
           "linecolor": "black",
           "linewidth": 2,
           "mirror": true,
           "showline": true,
           "ticks": "",
           "title": {
            "standoff": 15
           },
           "zeroline": false,
           "zerolinecolor": "#EBF0F8",
           "zerolinewidth": 2
          }
         }
        },
        "xaxis": {
         "range": [
          315,
          1150
         ],
         "title": {
          "text": "Frequency (rad/s)"
         }
        },
        "yaxis": {
         "exponentformat": "power",
         "title": {
          "text": "Amplitude (m)"
         }
        }
       }
      },
      "text/html": [
       "<div>                            <div id=\"66d95c6f-bd56-48cd-ad7d-1e0dd3ff934c\" class=\"plotly-graph-div\" style=\"height:525px; width:100%;\"></div>            <script type=\"text/javascript\">                require([\"plotly\"], function(Plotly) {                    window.PLOTLYENV=window.PLOTLYENV || {};                                    if (document.getElementById(\"66d95c6f-bd56-48cd-ad7d-1e0dd3ff934c\")) {                    Plotly.newPlot(                        \"66d95c6f-bd56-48cd-ad7d-1e0dd3ff934c\",                        [{\"hovertemplate\":\"Frequency (rad/s): %{x:.2f}<br>Amplitude (m): %{y:.2e}\",\"legendgroup\":\"Probe 1 - Node 1\",\"line\":{\"color\":\"blue\"},\"mode\":\"lines\",\"name\":\"Probe 1 - Node 1\",\"showlegend\":true,\"x\":[315.0,328.9166666666667,342.8333333333333,356.75,370.6666666666667,384.5833333333333,398.5,412.41666666666663,426.3333333333333,440.25,454.16666666666663,468.0833333333333,482.0,495.91666666666663,509.8333333333333,523.75,537.6666666666666,551.5833333333333,565.5,579.4166666666666,593.3333333333333,607.25,621.1666666666666,635.0833333333333,649.0,662.9166666666666,676.8333333333333,690.75,704.6666666666666,718.5833333333333,732.5,746.4166666666666,760.3333333333333,774.25,788.1666666666666,802.0833333333333,816.0,829.9166666666666,843.8333333333333,857.75,871.6666666666666,885.5833333333333,899.5,913.4166666666666,927.3333333333333,941.25,955.1666666666666,969.0833333333333,983.0,996.9166666666666,1010.8333333333333,1024.75,1038.6666666666665,1052.5833333333333,1066.5,1080.4166666666665,1094.3333333333333,1108.25,1122.1666666666665,1136.0833333333333,1150.0],\"y\":[0.0008431326720384942,0.0008528852483906485,0.0008605342410792324,0.0008663114771292211,0.0008704954110594749,0.0008733646485164354,0.0008751736627758056,0.0008761428581313044,0.0008764568345831736,0.0008762668031432105,0.0008756947427522742,0.0008748379813131883,0.0008737735456845618,0.0008725620016702811,0.0008712507056806374,0.0008698764885941367,0.0008684678349239086,0.0008670466333323052,0.0008656295729881355,0.000864229252370889,0.000862855057229958,0.0008615138545771735,0.0008602105407473203,0.0008589484740281297,0.0008577298161229809,0.0008565558016556308,0.0008554269508800681,0.0008543432375444989,0.0008533042213192203,0.0008523091522017041,0.0008513570527395899,0.0008504467826793595,0.0008495770896804931,0.0008487466489723717,0.0008479540942323638,0.0008471980414936689,0.0008464771075163507,0.0008457899237643966,0.0008451351468963473,0.0008445114664942422,0.0008439176106090523,0.0008433523495832188,0.000842814498519904,0.0008423029186929969,0.0008418165181335196,0.0008413542515811101,0.0008409151199498188,0.0008404981694291291,0.0008401024903151329,0.0008397272156479223,0.0008393715197147829,0.0008390346164677813,0.0008387157578915921,0.0008384142323515966,0.0008381293629444042,0.0008378605058680089,0.000837607048824647,0.0008373684094658706,0.000837144033886927,0.0008369333951747189,0.0008367359920131947],\"type\":\"scatter\"}],                        {\"template\":{\"data\":{\"barpolar\":[{\"marker\":{\"line\":{\"color\":\"white\",\"width\":0.5}},\"type\":\"barpolar\"}],\"bar\":[{\"error_x\":{\"color\":\"#2a3f5f\"},\"error_y\":{\"color\":\"#2a3f5f\"},\"marker\":{\"line\":{\"color\":\"white\",\"width\":0.5}},\"type\":\"bar\"}],\"carpet\":[{\"aaxis\":{\"endlinecolor\":\"#2a3f5f\",\"gridcolor\":\"#C8D4E3\",\"linecolor\":\"#C8D4E3\",\"minorgridcolor\":\"#C8D4E3\",\"startlinecolor\":\"#2a3f5f\"},\"baxis\":{\"endlinecolor\":\"#2a3f5f\",\"gridcolor\":\"#C8D4E3\",\"linecolor\":\"#C8D4E3\",\"minorgridcolor\":\"#C8D4E3\",\"startlinecolor\":\"#2a3f5f\"},\"type\":\"carpet\"}],\"choropleth\":[{\"colorbar\":{\"outlinewidth\":0,\"ticks\":\"\"},\"type\":\"choropleth\"}],\"contourcarpet\":[{\"colorbar\":{\"outlinewidth\":0,\"ticks\":\"\"},\"type\":\"contourcarpet\"}],\"contour\":[{\"colorbar\":{\"outlinewidth\":0,\"ticks\":\"\"},\"colorscale\":[[0.0,\"#0d0887\"],[0.1111111111111111,\"#46039f\"],[0.2222222222222222,\"#7201a8\"],[0.3333333333333333,\"#9c179e\"],[0.4444444444444444,\"#bd3786\"],[0.5555555555555556,\"#d8576b\"],[0.6666666666666666,\"#ed7953\"],[0.7777777777777778,\"#fb9f3a\"],[0.8888888888888888,\"#fdca26\"],[1.0,\"#f0f921\"]],\"type\":\"contour\"}],\"heatmapgl\":[{\"colorbar\":{\"outlinewidth\":0,\"ticks\":\"\"},\"colorscale\":[[0.0,\"#0d0887\"],[0.1111111111111111,\"#46039f\"],[0.2222222222222222,\"#7201a8\"],[0.3333333333333333,\"#9c179e\"],[0.4444444444444444,\"#bd3786\"],[0.5555555555555556,\"#d8576b\"],[0.6666666666666666,\"#ed7953\"],[0.7777777777777778,\"#fb9f3a\"],[0.8888888888888888,\"#fdca26\"],[1.0,\"#f0f921\"]],\"type\":\"heatmapgl\"}],\"heatmap\":[{\"colorbar\":{\"outlinewidth\":0,\"ticks\":\"\"},\"colorscale\":[[0.0,\"#0d0887\"],[0.1111111111111111,\"#46039f\"],[0.2222222222222222,\"#7201a8\"],[0.3333333333333333,\"#9c179e\"],[0.4444444444444444,\"#bd3786\"],[0.5555555555555556,\"#d8576b\"],[0.6666666666666666,\"#ed7953\"],[0.7777777777777778,\"#fb9f3a\"],[0.8888888888888888,\"#fdca26\"],[1.0,\"#f0f921\"]],\"type\":\"heatmap\"}],\"histogram2dcontour\":[{\"colorbar\":{\"outlinewidth\":0,\"ticks\":\"\"},\"colorscale\":[[0.0,\"#0d0887\"],[0.1111111111111111,\"#46039f\"],[0.2222222222222222,\"#7201a8\"],[0.3333333333333333,\"#9c179e\"],[0.4444444444444444,\"#bd3786\"],[0.5555555555555556,\"#d8576b\"],[0.6666666666666666,\"#ed7953\"],[0.7777777777777778,\"#fb9f3a\"],[0.8888888888888888,\"#fdca26\"],[1.0,\"#f0f921\"]],\"type\":\"histogram2dcontour\"}],\"histogram2d\":[{\"colorbar\":{\"outlinewidth\":0,\"ticks\":\"\"},\"colorscale\":[[0.0,\"#0d0887\"],[0.1111111111111111,\"#46039f\"],[0.2222222222222222,\"#7201a8\"],[0.3333333333333333,\"#9c179e\"],[0.4444444444444444,\"#bd3786\"],[0.5555555555555556,\"#d8576b\"],[0.6666666666666666,\"#ed7953\"],[0.7777777777777778,\"#fb9f3a\"],[0.8888888888888888,\"#fdca26\"],[1.0,\"#f0f921\"]],\"type\":\"histogram2d\"}],\"histogram\":[{\"marker\":{\"colorbar\":{\"outlinewidth\":0,\"ticks\":\"\"}},\"type\":\"histogram\"}],\"mesh3d\":[{\"colorbar\":{\"outlinewidth\":0,\"ticks\":\"\"},\"type\":\"mesh3d\"}],\"parcoords\":[{\"line\":{\"colorbar\":{\"outlinewidth\":0,\"ticks\":\"\"}},\"type\":\"parcoords\"}],\"pie\":[{\"automargin\":true,\"type\":\"pie\"}],\"scatter3d\":[{\"line\":{\"colorbar\":{\"outlinewidth\":0,\"ticks\":\"\"}},\"marker\":{\"colorbar\":{\"outlinewidth\":0,\"ticks\":\"\"}},\"type\":\"scatter3d\"}],\"scattercarpet\":[{\"marker\":{\"colorbar\":{\"outlinewidth\":0,\"ticks\":\"\"}},\"type\":\"scattercarpet\"}],\"scattergeo\":[{\"marker\":{\"colorbar\":{\"outlinewidth\":0,\"ticks\":\"\"}},\"type\":\"scattergeo\"}],\"scattergl\":[{\"marker\":{\"colorbar\":{\"outlinewidth\":0,\"ticks\":\"\"}},\"type\":\"scattergl\"}],\"scattermapbox\":[{\"marker\":{\"colorbar\":{\"outlinewidth\":0,\"ticks\":\"\"}},\"type\":\"scattermapbox\"}],\"scatterpolargl\":[{\"marker\":{\"colorbar\":{\"outlinewidth\":0,\"ticks\":\"\"}},\"type\":\"scatterpolargl\"}],\"scatterpolar\":[{\"marker\":{\"colorbar\":{\"outlinewidth\":0,\"ticks\":\"\"}},\"type\":\"scatterpolar\"}],\"scatter\":[{\"marker\":{\"colorbar\":{\"outlinewidth\":0,\"ticks\":\"\"}},\"type\":\"scatter\"}],\"scatterternary\":[{\"marker\":{\"colorbar\":{\"outlinewidth\":0,\"ticks\":\"\"}},\"type\":\"scatterternary\"}],\"surface\":[{\"colorbar\":{\"outlinewidth\":0,\"ticks\":\"\"},\"colorscale\":[[0.0,\"#0d0887\"],[0.1111111111111111,\"#46039f\"],[0.2222222222222222,\"#7201a8\"],[0.3333333333333333,\"#9c179e\"],[0.4444444444444444,\"#bd3786\"],[0.5555555555555556,\"#d8576b\"],[0.6666666666666666,\"#ed7953\"],[0.7777777777777778,\"#fb9f3a\"],[0.8888888888888888,\"#fdca26\"],[1.0,\"#f0f921\"]],\"type\":\"surface\"}],\"table\":[{\"cells\":{\"fill\":{\"color\":\"#EBF0F8\"},\"line\":{\"color\":\"white\"}},\"header\":{\"fill\":{\"color\":\"#C8D4E3\"},\"line\":{\"color\":\"white\"}},\"type\":\"table\"}]},\"layout\":{\"annotationdefaults\":{\"arrowcolor\":\"#2a3f5f\",\"arrowhead\":0,\"arrowwidth\":1},\"coloraxis\":{\"colorbar\":{\"outlinewidth\":0,\"ticks\":\"\"}},\"colorscale\":{\"diverging\":[[0,\"#8e0152\"],[0.1,\"#c51b7d\"],[0.2,\"#de77ae\"],[0.3,\"#f1b6da\"],[0.4,\"#fde0ef\"],[0.5,\"#f7f7f7\"],[0.6,\"#e6f5d0\"],[0.7,\"#b8e186\"],[0.8,\"#7fbc41\"],[0.9,\"#4d9221\"],[1,\"#276419\"]],\"sequential\":[[0.0,\"#0d0887\"],[0.1111111111111111,\"#46039f\"],[0.2222222222222222,\"#7201a8\"],[0.3333333333333333,\"#9c179e\"],[0.4444444444444444,\"#bd3786\"],[0.5555555555555556,\"#d8576b\"],[0.6666666666666666,\"#ed7953\"],[0.7777777777777778,\"#fb9f3a\"],[0.8888888888888888,\"#fdca26\"],[1.0,\"#f0f921\"]],\"sequentialminus\":[[0.0,\"#0d0887\"],[0.1111111111111111,\"#46039f\"],[0.2222222222222222,\"#7201a8\"],[0.3333333333333333,\"#9c179e\"],[0.4444444444444444,\"#bd3786\"],[0.5555555555555556,\"#d8576b\"],[0.6666666666666666,\"#ed7953\"],[0.7777777777777778,\"#fb9f3a\"],[0.8888888888888888,\"#fdca26\"],[1.0,\"#f0f921\"]]},\"colorway\":[\"#1f77b4\",\"#ff7f0e\",\"#2ca02c\",\"#d62728\",\"#9467bd\",\"#8c564b\",\"#e377c2\",\"#7f7f7f\",\"#bcbd22\",\"#17becf\"],\"font\":{\"color\":\"#2a3f5f\"},\"geo\":{\"bgcolor\":\"white\",\"lakecolor\":\"white\",\"landcolor\":\"white\",\"showlakes\":true,\"showland\":true,\"subunitcolor\":\"#C8D4E3\"},\"hoverlabel\":{\"align\":\"left\"},\"hovermode\":\"closest\",\"mapbox\":{\"style\":\"light\"},\"paper_bgcolor\":\"white\",\"plot_bgcolor\":\"white\",\"polar\":{\"angularaxis\":{\"gridcolor\":\"#EBF0F8\",\"linecolor\":\"#EBF0F8\",\"ticks\":\"\"},\"bgcolor\":\"white\",\"radialaxis\":{\"gridcolor\":\"#EBF0F8\",\"linecolor\":\"#EBF0F8\",\"ticks\":\"\"}},\"scene\":{\"camera\":{\"center\":{\"x\":0,\"y\":0,\"z\":0},\"eye\":{\"x\":2.0,\"y\":2.0,\"z\":2.0},\"up\":{\"x\":0,\"y\":0,\"z\":1}},\"xaxis\":{\"backgroundcolor\":\"white\",\"gridcolor\":\"#DFE8F3\",\"gridwidth\":2,\"linecolor\":\"#EBF0F8\",\"showbackground\":true,\"showspikes\":false,\"ticks\":\"\",\"zerolinecolor\":\"#EBF0F8\"},\"yaxis\":{\"backgroundcolor\":\"white\",\"gridcolor\":\"#DFE8F3\",\"gridwidth\":2,\"linecolor\":\"#EBF0F8\",\"showbackground\":true,\"showspikes\":false,\"ticks\":\"\",\"zerolinecolor\":\"#EBF0F8\"},\"zaxis\":{\"backgroundcolor\":\"white\",\"gridcolor\":\"#DFE8F3\",\"gridwidth\":2,\"linecolor\":\"#EBF0F8\",\"showbackground\":true,\"showspikes\":false,\"ticks\":\"\",\"zerolinecolor\":\"#EBF0F8\"}},\"shapedefaults\":{\"line\":{\"color\":\"#2a3f5f\"}},\"ternary\":{\"aaxis\":{\"gridcolor\":\"#DFE8F3\",\"linecolor\":\"#A2B1C6\",\"ticks\":\"\"},\"baxis\":{\"gridcolor\":\"#DFE8F3\",\"linecolor\":\"#A2B1C6\",\"ticks\":\"\"},\"bgcolor\":\"white\",\"caxis\":{\"gridcolor\":\"#DFE8F3\",\"linecolor\":\"#A2B1C6\",\"ticks\":\"\"}},\"title\":{\"x\":0.05},\"xaxis\":{\"automargin\":true,\"gridcolor\":\"#EBF0F8\",\"linecolor\":\"black\",\"linewidth\":2.0,\"mirror\":true,\"showline\":true,\"ticks\":\"\",\"title\":{\"standoff\":15},\"zeroline\":false,\"zerolinecolor\":\"#EBF0F8\",\"zerolinewidth\":2},\"yaxis\":{\"automargin\":true,\"gridcolor\":\"#EBF0F8\",\"linecolor\":\"black\",\"linewidth\":2.0,\"mirror\":true,\"showline\":true,\"ticks\":\"\",\"title\":{\"standoff\":15},\"zeroline\":false,\"zerolinecolor\":\"#EBF0F8\",\"zerolinewidth\":2}}},\"xaxis\":{\"title\":{\"text\":\"Frequency (rad/s)\"},\"range\":[315.0,1150.0]},\"yaxis\":{\"title\":{\"text\":\"Amplitude (m)\"},\"exponentformat\":\"power\"},\"showlegend\":false},                        {\"responsive\": true}                    ).then(function(){\n",
       "                            \n",
       "var gd = document.getElementById('66d95c6f-bd56-48cd-ad7d-1e0dd3ff934c');\n",
       "var x = new MutationObserver(function (mutations, observer) {{\n",
       "        var display = window.getComputedStyle(gd).display;\n",
       "        if (!display || display === 'none') {{\n",
       "            console.log([gd, 'removed!']);\n",
       "            Plotly.purge(gd);\n",
       "            observer.disconnect();\n",
       "        }}\n",
       "}});\n",
       "\n",
       "// Listen for the removal of the full notebook cells\n",
       "var notebookContainer = gd.closest('#notebook-container');\n",
       "if (notebookContainer) {{\n",
       "    x.observe(notebookContainer, {childList: true});\n",
       "}}\n",
       "\n",
       "// Listen for the clearing of the current output cell\n",
       "var outputEl = gd.closest('.output');\n",
       "if (outputEl) {{\n",
       "    x.observe(outputEl, {childList: true});\n",
       "}}\n",
       "\n",
       "                        })                };                });            </script>        </div>"
      ]
     },
     "metadata": {},
     "output_type": "display_data"
    }
   ],
   "source": [
    "#---------------------------------------- real imbalance response-------------------------------------------------------\n",
    "samples = 61\n",
    "results_real, fr_real = getImbalanceResponse(rotor_real, DISK_NODE, IMBALANCE_MAGNITUDE, IMBALANCE_PHASE, FREQUENCY_RANGE)\n",
    "\n",
    "# noise\n",
    "epsilon = np.random.randn(SAMPLES, 4) * SIGMA_TRUE\n",
    "observations = fr_real + epsilon\n",
    "\n",
    "# plot real response\n",
    "probe_real = (1, 0)\n",
    "fig_results_real = results_real.plot_magnitude(probe = [probe_real], probe_units=\"degrees\")\n",
    "fig_results_real.update_layout(showlegend=False)\n",
    "fig_results_real.show()\n",
    "# fig_results_real.write_image(\"fr_real_phase.png\")"
   ]
  },
  {
   "cell_type": "code",
   "execution_count": 18,
   "id": "d880abee",
   "metadata": {},
   "outputs": [
    {
     "data": {
      "application/vnd.plotly.v1+json": {
       "config": {
        "plotlyServerURL": "https://plot.ly"
       },
       "data": [
        {
         "hovertemplate": "Frequency (rad/s): %{x:.2f}<br>Amplitude (m): %{y:.2e}",
         "legendgroup": "Probe 1 - Node 1",
         "line": {
          "color": "blue"
         },
         "mode": "lines",
         "name": "Probe 1 - Node 1",
         "showlegend": true,
         "type": "scatter",
         "x": [
          315,
          328.9166666666667,
          342.8333333333333,
          356.75,
          370.6666666666667,
          384.5833333333333,
          398.5,
          412.41666666666663,
          426.3333333333333,
          440.25,
          454.16666666666663,
          468.0833333333333,
          482,
          495.91666666666663,
          509.8333333333333,
          523.75,
          537.6666666666666,
          551.5833333333333,
          565.5,
          579.4166666666666,
          593.3333333333333,
          607.25,
          621.1666666666666,
          635.0833333333333,
          649,
          662.9166666666666,
          676.8333333333333,
          690.75,
          704.6666666666666,
          718.5833333333333,
          732.5,
          746.4166666666666,
          760.3333333333333,
          774.25,
          788.1666666666666,
          802.0833333333333,
          816,
          829.9166666666666,
          843.8333333333333,
          857.75,
          871.6666666666666,
          885.5833333333333,
          899.5,
          913.4166666666666,
          927.3333333333333,
          941.25,
          955.1666666666666,
          969.0833333333333,
          983,
          996.9166666666666,
          1010.8333333333333,
          1024.75,
          1038.6666666666665,
          1052.5833333333333,
          1066.5,
          1080.4166666666665,
          1094.3333333333333,
          1108.25,
          1122.1666666666665,
          1136.0833333333333,
          1150
         ],
         "y": [
          0.0014129042221363364,
          0.0013170423481008917,
          0.0012427582010438945,
          0.001183635733339908,
          0.0011355625160622222,
          0.0010957820463688873,
          0.0010623782183004048,
          0.0010339782937588572,
          0.001009573470487714,
          0.0009884061000958553,
          0.0009698963627929958,
          0.0009535931861745163,
          0.0009391405479888236,
          0.0009262538192220435,
          0.0009147028244821322,
          0.0009042994965612623,
          0.0008948887356278498,
          0.0008863415437594872,
          0.0008785498011259143,
          0.0008714222440144011,
          0.0008648813345035681,
          0.0008588607997779956,
          0.0008533036800305158,
          0.000848160766655109,
          0.0008433893428414535,
          0.0008389521605678181,
          0.00083481660393717,
          0.0008309540005402707,
          0.0008273390512654854,
          0.0008239493555300703,
          0.0008207650138761426,
          0.0008177682936707468,
          0.0008149433465686964,
          0.0008122759686632706,
          0.0008097533960195611,
          0.0008073641296774562,
          0.0008050977853082781,
          0.0008029449635887651,
          0.0008008971380539295,
          0.0007989465577558825,
          0.0007970861625096574,
          0.000795309508879943,
          0.0007936107053625439,
          0.0007919843554641663,
          0.0007904255075874404,
          0.000788929610796593,
          0.0007874924756801725,
          0.0007861102396431972,
          0.000784779336059265,
          0.0007834964667938914,
          0.0007822585776811526,
          0.0007810628365914139,
          0.0007799066137800685,
          0.0007787874642459588,
          0.0007777031118668535,
          0.0007766514351069914,
          0.0007756304541204326,
          0.0007746383190937565,
          0.0007736732996937276,
          0.0007727337754989802,
          0.0007718182273125148
         ]
        }
       ],
       "layout": {
        "showlegend": false,
        "template": {
         "data": {
          "bar": [
           {
            "error_x": {
             "color": "#2a3f5f"
            },
            "error_y": {
             "color": "#2a3f5f"
            },
            "marker": {
             "line": {
              "color": "white",
              "width": 0.5
             }
            },
            "type": "bar"
           }
          ],
          "barpolar": [
           {
            "marker": {
             "line": {
              "color": "white",
              "width": 0.5
             }
            },
            "type": "barpolar"
           }
          ],
          "carpet": [
           {
            "aaxis": {
             "endlinecolor": "#2a3f5f",
             "gridcolor": "#C8D4E3",
             "linecolor": "#C8D4E3",
             "minorgridcolor": "#C8D4E3",
             "startlinecolor": "#2a3f5f"
            },
            "baxis": {
             "endlinecolor": "#2a3f5f",
             "gridcolor": "#C8D4E3",
             "linecolor": "#C8D4E3",
             "minorgridcolor": "#C8D4E3",
             "startlinecolor": "#2a3f5f"
            },
            "type": "carpet"
           }
          ],
          "choropleth": [
           {
            "colorbar": {
             "outlinewidth": 0,
             "ticks": ""
            },
            "type": "choropleth"
           }
          ],
          "contour": [
           {
            "colorbar": {
             "outlinewidth": 0,
             "ticks": ""
            },
            "colorscale": [
             [
              0,
              "#0d0887"
             ],
             [
              0.1111111111111111,
              "#46039f"
             ],
             [
              0.2222222222222222,
              "#7201a8"
             ],
             [
              0.3333333333333333,
              "#9c179e"
             ],
             [
              0.4444444444444444,
              "#bd3786"
             ],
             [
              0.5555555555555556,
              "#d8576b"
             ],
             [
              0.6666666666666666,
              "#ed7953"
             ],
             [
              0.7777777777777778,
              "#fb9f3a"
             ],
             [
              0.8888888888888888,
              "#fdca26"
             ],
             [
              1,
              "#f0f921"
             ]
            ],
            "type": "contour"
           }
          ],
          "contourcarpet": [
           {
            "colorbar": {
             "outlinewidth": 0,
             "ticks": ""
            },
            "type": "contourcarpet"
           }
          ],
          "heatmap": [
           {
            "colorbar": {
             "outlinewidth": 0,
             "ticks": ""
            },
            "colorscale": [
             [
              0,
              "#0d0887"
             ],
             [
              0.1111111111111111,
              "#46039f"
             ],
             [
              0.2222222222222222,
              "#7201a8"
             ],
             [
              0.3333333333333333,
              "#9c179e"
             ],
             [
              0.4444444444444444,
              "#bd3786"
             ],
             [
              0.5555555555555556,
              "#d8576b"
             ],
             [
              0.6666666666666666,
              "#ed7953"
             ],
             [
              0.7777777777777778,
              "#fb9f3a"
             ],
             [
              0.8888888888888888,
              "#fdca26"
             ],
             [
              1,
              "#f0f921"
             ]
            ],
            "type": "heatmap"
           }
          ],
          "heatmapgl": [
           {
            "colorbar": {
             "outlinewidth": 0,
             "ticks": ""
            },
            "colorscale": [
             [
              0,
              "#0d0887"
             ],
             [
              0.1111111111111111,
              "#46039f"
             ],
             [
              0.2222222222222222,
              "#7201a8"
             ],
             [
              0.3333333333333333,
              "#9c179e"
             ],
             [
              0.4444444444444444,
              "#bd3786"
             ],
             [
              0.5555555555555556,
              "#d8576b"
             ],
             [
              0.6666666666666666,
              "#ed7953"
             ],
             [
              0.7777777777777778,
              "#fb9f3a"
             ],
             [
              0.8888888888888888,
              "#fdca26"
             ],
             [
              1,
              "#f0f921"
             ]
            ],
            "type": "heatmapgl"
           }
          ],
          "histogram": [
           {
            "marker": {
             "colorbar": {
              "outlinewidth": 0,
              "ticks": ""
             }
            },
            "type": "histogram"
           }
          ],
          "histogram2d": [
           {
            "colorbar": {
             "outlinewidth": 0,
             "ticks": ""
            },
            "colorscale": [
             [
              0,
              "#0d0887"
             ],
             [
              0.1111111111111111,
              "#46039f"
             ],
             [
              0.2222222222222222,
              "#7201a8"
             ],
             [
              0.3333333333333333,
              "#9c179e"
             ],
             [
              0.4444444444444444,
              "#bd3786"
             ],
             [
              0.5555555555555556,
              "#d8576b"
             ],
             [
              0.6666666666666666,
              "#ed7953"
             ],
             [
              0.7777777777777778,
              "#fb9f3a"
             ],
             [
              0.8888888888888888,
              "#fdca26"
             ],
             [
              1,
              "#f0f921"
             ]
            ],
            "type": "histogram2d"
           }
          ],
          "histogram2dcontour": [
           {
            "colorbar": {
             "outlinewidth": 0,
             "ticks": ""
            },
            "colorscale": [
             [
              0,
              "#0d0887"
             ],
             [
              0.1111111111111111,
              "#46039f"
             ],
             [
              0.2222222222222222,
              "#7201a8"
             ],
             [
              0.3333333333333333,
              "#9c179e"
             ],
             [
              0.4444444444444444,
              "#bd3786"
             ],
             [
              0.5555555555555556,
              "#d8576b"
             ],
             [
              0.6666666666666666,
              "#ed7953"
             ],
             [
              0.7777777777777778,
              "#fb9f3a"
             ],
             [
              0.8888888888888888,
              "#fdca26"
             ],
             [
              1,
              "#f0f921"
             ]
            ],
            "type": "histogram2dcontour"
           }
          ],
          "mesh3d": [
           {
            "colorbar": {
             "outlinewidth": 0,
             "ticks": ""
            },
            "type": "mesh3d"
           }
          ],
          "parcoords": [
           {
            "line": {
             "colorbar": {
              "outlinewidth": 0,
              "ticks": ""
             }
            },
            "type": "parcoords"
           }
          ],
          "pie": [
           {
            "automargin": true,
            "type": "pie"
           }
          ],
          "scatter": [
           {
            "marker": {
             "colorbar": {
              "outlinewidth": 0,
              "ticks": ""
             }
            },
            "type": "scatter"
           }
          ],
          "scatter3d": [
           {
            "line": {
             "colorbar": {
              "outlinewidth": 0,
              "ticks": ""
             }
            },
            "marker": {
             "colorbar": {
              "outlinewidth": 0,
              "ticks": ""
             }
            },
            "type": "scatter3d"
           }
          ],
          "scattercarpet": [
           {
            "marker": {
             "colorbar": {
              "outlinewidth": 0,
              "ticks": ""
             }
            },
            "type": "scattercarpet"
           }
          ],
          "scattergeo": [
           {
            "marker": {
             "colorbar": {
              "outlinewidth": 0,
              "ticks": ""
             }
            },
            "type": "scattergeo"
           }
          ],
          "scattergl": [
           {
            "marker": {
             "colorbar": {
              "outlinewidth": 0,
              "ticks": ""
             }
            },
            "type": "scattergl"
           }
          ],
          "scattermapbox": [
           {
            "marker": {
             "colorbar": {
              "outlinewidth": 0,
              "ticks": ""
             }
            },
            "type": "scattermapbox"
           }
          ],
          "scatterpolar": [
           {
            "marker": {
             "colorbar": {
              "outlinewidth": 0,
              "ticks": ""
             }
            },
            "type": "scatterpolar"
           }
          ],
          "scatterpolargl": [
           {
            "marker": {
             "colorbar": {
              "outlinewidth": 0,
              "ticks": ""
             }
            },
            "type": "scatterpolargl"
           }
          ],
          "scatterternary": [
           {
            "marker": {
             "colorbar": {
              "outlinewidth": 0,
              "ticks": ""
             }
            },
            "type": "scatterternary"
           }
          ],
          "surface": [
           {
            "colorbar": {
             "outlinewidth": 0,
             "ticks": ""
            },
            "colorscale": [
             [
              0,
              "#0d0887"
             ],
             [
              0.1111111111111111,
              "#46039f"
             ],
             [
              0.2222222222222222,
              "#7201a8"
             ],
             [
              0.3333333333333333,
              "#9c179e"
             ],
             [
              0.4444444444444444,
              "#bd3786"
             ],
             [
              0.5555555555555556,
              "#d8576b"
             ],
             [
              0.6666666666666666,
              "#ed7953"
             ],
             [
              0.7777777777777778,
              "#fb9f3a"
             ],
             [
              0.8888888888888888,
              "#fdca26"
             ],
             [
              1,
              "#f0f921"
             ]
            ],
            "type": "surface"
           }
          ],
          "table": [
           {
            "cells": {
             "fill": {
              "color": "#EBF0F8"
             },
             "line": {
              "color": "white"
             }
            },
            "header": {
             "fill": {
              "color": "#C8D4E3"
             },
             "line": {
              "color": "white"
             }
            },
            "type": "table"
           }
          ]
         },
         "layout": {
          "annotationdefaults": {
           "arrowcolor": "#2a3f5f",
           "arrowhead": 0,
           "arrowwidth": 1
          },
          "coloraxis": {
           "colorbar": {
            "outlinewidth": 0,
            "ticks": ""
           }
          },
          "colorscale": {
           "diverging": [
            [
             0,
             "#8e0152"
            ],
            [
             0.1,
             "#c51b7d"
            ],
            [
             0.2,
             "#de77ae"
            ],
            [
             0.3,
             "#f1b6da"
            ],
            [
             0.4,
             "#fde0ef"
            ],
            [
             0.5,
             "#f7f7f7"
            ],
            [
             0.6,
             "#e6f5d0"
            ],
            [
             0.7,
             "#b8e186"
            ],
            [
             0.8,
             "#7fbc41"
            ],
            [
             0.9,
             "#4d9221"
            ],
            [
             1,
             "#276419"
            ]
           ],
           "sequential": [
            [
             0,
             "#0d0887"
            ],
            [
             0.1111111111111111,
             "#46039f"
            ],
            [
             0.2222222222222222,
             "#7201a8"
            ],
            [
             0.3333333333333333,
             "#9c179e"
            ],
            [
             0.4444444444444444,
             "#bd3786"
            ],
            [
             0.5555555555555556,
             "#d8576b"
            ],
            [
             0.6666666666666666,
             "#ed7953"
            ],
            [
             0.7777777777777778,
             "#fb9f3a"
            ],
            [
             0.8888888888888888,
             "#fdca26"
            ],
            [
             1,
             "#f0f921"
            ]
           ],
           "sequentialminus": [
            [
             0,
             "#0d0887"
            ],
            [
             0.1111111111111111,
             "#46039f"
            ],
            [
             0.2222222222222222,
             "#7201a8"
            ],
            [
             0.3333333333333333,
             "#9c179e"
            ],
            [
             0.4444444444444444,
             "#bd3786"
            ],
            [
             0.5555555555555556,
             "#d8576b"
            ],
            [
             0.6666666666666666,
             "#ed7953"
            ],
            [
             0.7777777777777778,
             "#fb9f3a"
            ],
            [
             0.8888888888888888,
             "#fdca26"
            ],
            [
             1,
             "#f0f921"
            ]
           ]
          },
          "colorway": [
           "#1f77b4",
           "#ff7f0e",
           "#2ca02c",
           "#d62728",
           "#9467bd",
           "#8c564b",
           "#e377c2",
           "#7f7f7f",
           "#bcbd22",
           "#17becf"
          ],
          "font": {
           "color": "#2a3f5f"
          },
          "geo": {
           "bgcolor": "white",
           "lakecolor": "white",
           "landcolor": "white",
           "showlakes": true,
           "showland": true,
           "subunitcolor": "#C8D4E3"
          },
          "hoverlabel": {
           "align": "left"
          },
          "hovermode": "closest",
          "mapbox": {
           "style": "light"
          },
          "paper_bgcolor": "white",
          "plot_bgcolor": "white",
          "polar": {
           "angularaxis": {
            "gridcolor": "#EBF0F8",
            "linecolor": "#EBF0F8",
            "ticks": ""
           },
           "bgcolor": "white",
           "radialaxis": {
            "gridcolor": "#EBF0F8",
            "linecolor": "#EBF0F8",
            "ticks": ""
           }
          },
          "scene": {
           "camera": {
            "center": {
             "x": 0,
             "y": 0,
             "z": 0
            },
            "eye": {
             "x": 2,
             "y": 2,
             "z": 2
            },
            "up": {
             "x": 0,
             "y": 0,
             "z": 1
            }
           },
           "xaxis": {
            "backgroundcolor": "white",
            "gridcolor": "#DFE8F3",
            "gridwidth": 2,
            "linecolor": "#EBF0F8",
            "showbackground": true,
            "showspikes": false,
            "ticks": "",
            "zerolinecolor": "#EBF0F8"
           },
           "yaxis": {
            "backgroundcolor": "white",
            "gridcolor": "#DFE8F3",
            "gridwidth": 2,
            "linecolor": "#EBF0F8",
            "showbackground": true,
            "showspikes": false,
            "ticks": "",
            "zerolinecolor": "#EBF0F8"
           },
           "zaxis": {
            "backgroundcolor": "white",
            "gridcolor": "#DFE8F3",
            "gridwidth": 2,
            "linecolor": "#EBF0F8",
            "showbackground": true,
            "showspikes": false,
            "ticks": "",
            "zerolinecolor": "#EBF0F8"
           }
          },
          "shapedefaults": {
           "line": {
            "color": "#2a3f5f"
           }
          },
          "ternary": {
           "aaxis": {
            "gridcolor": "#DFE8F3",
            "linecolor": "#A2B1C6",
            "ticks": ""
           },
           "baxis": {
            "gridcolor": "#DFE8F3",
            "linecolor": "#A2B1C6",
            "ticks": ""
           },
           "bgcolor": "white",
           "caxis": {
            "gridcolor": "#DFE8F3",
            "linecolor": "#A2B1C6",
            "ticks": ""
           }
          },
          "title": {
           "x": 0.05
          },
          "xaxis": {
           "automargin": true,
           "gridcolor": "#EBF0F8",
           "linecolor": "black",
           "linewidth": 2,
           "mirror": true,
           "showline": true,
           "ticks": "",
           "title": {
            "standoff": 15
           },
           "zeroline": false,
           "zerolinecolor": "#EBF0F8",
           "zerolinewidth": 2
          },
          "yaxis": {
           "automargin": true,
           "gridcolor": "#EBF0F8",
           "linecolor": "black",
           "linewidth": 2,
           "mirror": true,
           "showline": true,
           "ticks": "",
           "title": {
            "standoff": 15
           },
           "zeroline": false,
           "zerolinecolor": "#EBF0F8",
           "zerolinewidth": 2
          }
         }
        },
        "xaxis": {
         "range": [
          315,
          1150
         ],
         "title": {
          "text": "Frequency (rad/s)"
         }
        },
        "yaxis": {
         "exponentformat": "power",
         "tickformat": ".3f",
         "title": {
          "text": "Amplitude (m)"
         }
        }
       }
      },
      "text/html": [
       "<div>                            <div id=\"10f8bab1-429e-4c33-9ebe-76ea48e8a4bc\" class=\"plotly-graph-div\" style=\"height:525px; width:100%;\"></div>            <script type=\"text/javascript\">                require([\"plotly\"], function(Plotly) {                    window.PLOTLYENV=window.PLOTLYENV || {};                                    if (document.getElementById(\"10f8bab1-429e-4c33-9ebe-76ea48e8a4bc\")) {                    Plotly.newPlot(                        \"10f8bab1-429e-4c33-9ebe-76ea48e8a4bc\",                        [{\"hovertemplate\":\"Frequency (rad/s): %{x:.2f}<br>Amplitude (m): %{y:.2e}\",\"legendgroup\":\"Probe 1 - Node 1\",\"line\":{\"color\":\"blue\"},\"mode\":\"lines\",\"name\":\"Probe 1 - Node 1\",\"showlegend\":true,\"x\":[315.0,328.9166666666667,342.8333333333333,356.75,370.6666666666667,384.5833333333333,398.5,412.41666666666663,426.3333333333333,440.25,454.16666666666663,468.0833333333333,482.0,495.91666666666663,509.8333333333333,523.75,537.6666666666666,551.5833333333333,565.5,579.4166666666666,593.3333333333333,607.25,621.1666666666666,635.0833333333333,649.0,662.9166666666666,676.8333333333333,690.75,704.6666666666666,718.5833333333333,732.5,746.4166666666666,760.3333333333333,774.25,788.1666666666666,802.0833333333333,816.0,829.9166666666666,843.8333333333333,857.75,871.6666666666666,885.5833333333333,899.5,913.4166666666666,927.3333333333333,941.25,955.1666666666666,969.0833333333333,983.0,996.9166666666666,1010.8333333333333,1024.75,1038.6666666666665,1052.5833333333333,1066.5,1080.4166666666665,1094.3333333333333,1108.25,1122.1666666666665,1136.0833333333333,1150.0],\"y\":[0.0014129042221363364,0.0013170423481008917,0.0012427582010438945,0.001183635733339908,0.0011355625160622222,0.0010957820463688873,0.0010623782183004048,0.0010339782937588572,0.001009573470487714,0.0009884061000958553,0.0009698963627929958,0.0009535931861745163,0.0009391405479888236,0.0009262538192220435,0.0009147028244821322,0.0009042994965612623,0.0008948887356278498,0.0008863415437594872,0.0008785498011259143,0.0008714222440144011,0.0008648813345035681,0.0008588607997779956,0.0008533036800305158,0.000848160766655109,0.0008433893428414535,0.0008389521605678181,0.00083481660393717,0.0008309540005402707,0.0008273390512654854,0.0008239493555300703,0.0008207650138761426,0.0008177682936707468,0.0008149433465686964,0.0008122759686632706,0.0008097533960195611,0.0008073641296774562,0.0008050977853082781,0.0008029449635887651,0.0008008971380539295,0.0007989465577558825,0.0007970861625096574,0.000795309508879943,0.0007936107053625439,0.0007919843554641663,0.0007904255075874404,0.000788929610796593,0.0007874924756801725,0.0007861102396431972,0.000784779336059265,0.0007834964667938914,0.0007822585776811526,0.0007810628365914139,0.0007799066137800685,0.0007787874642459588,0.0007777031118668535,0.0007766514351069914,0.0007756304541204326,0.0007746383190937565,0.0007736732996937276,0.0007727337754989802,0.0007718182273125148],\"type\":\"scatter\"}],                        {\"template\":{\"data\":{\"barpolar\":[{\"marker\":{\"line\":{\"color\":\"white\",\"width\":0.5}},\"type\":\"barpolar\"}],\"bar\":[{\"error_x\":{\"color\":\"#2a3f5f\"},\"error_y\":{\"color\":\"#2a3f5f\"},\"marker\":{\"line\":{\"color\":\"white\",\"width\":0.5}},\"type\":\"bar\"}],\"carpet\":[{\"aaxis\":{\"endlinecolor\":\"#2a3f5f\",\"gridcolor\":\"#C8D4E3\",\"linecolor\":\"#C8D4E3\",\"minorgridcolor\":\"#C8D4E3\",\"startlinecolor\":\"#2a3f5f\"},\"baxis\":{\"endlinecolor\":\"#2a3f5f\",\"gridcolor\":\"#C8D4E3\",\"linecolor\":\"#C8D4E3\",\"minorgridcolor\":\"#C8D4E3\",\"startlinecolor\":\"#2a3f5f\"},\"type\":\"carpet\"}],\"choropleth\":[{\"colorbar\":{\"outlinewidth\":0,\"ticks\":\"\"},\"type\":\"choropleth\"}],\"contourcarpet\":[{\"colorbar\":{\"outlinewidth\":0,\"ticks\":\"\"},\"type\":\"contourcarpet\"}],\"contour\":[{\"colorbar\":{\"outlinewidth\":0,\"ticks\":\"\"},\"colorscale\":[[0.0,\"#0d0887\"],[0.1111111111111111,\"#46039f\"],[0.2222222222222222,\"#7201a8\"],[0.3333333333333333,\"#9c179e\"],[0.4444444444444444,\"#bd3786\"],[0.5555555555555556,\"#d8576b\"],[0.6666666666666666,\"#ed7953\"],[0.7777777777777778,\"#fb9f3a\"],[0.8888888888888888,\"#fdca26\"],[1.0,\"#f0f921\"]],\"type\":\"contour\"}],\"heatmapgl\":[{\"colorbar\":{\"outlinewidth\":0,\"ticks\":\"\"},\"colorscale\":[[0.0,\"#0d0887\"],[0.1111111111111111,\"#46039f\"],[0.2222222222222222,\"#7201a8\"],[0.3333333333333333,\"#9c179e\"],[0.4444444444444444,\"#bd3786\"],[0.5555555555555556,\"#d8576b\"],[0.6666666666666666,\"#ed7953\"],[0.7777777777777778,\"#fb9f3a\"],[0.8888888888888888,\"#fdca26\"],[1.0,\"#f0f921\"]],\"type\":\"heatmapgl\"}],\"heatmap\":[{\"colorbar\":{\"outlinewidth\":0,\"ticks\":\"\"},\"colorscale\":[[0.0,\"#0d0887\"],[0.1111111111111111,\"#46039f\"],[0.2222222222222222,\"#7201a8\"],[0.3333333333333333,\"#9c179e\"],[0.4444444444444444,\"#bd3786\"],[0.5555555555555556,\"#d8576b\"],[0.6666666666666666,\"#ed7953\"],[0.7777777777777778,\"#fb9f3a\"],[0.8888888888888888,\"#fdca26\"],[1.0,\"#f0f921\"]],\"type\":\"heatmap\"}],\"histogram2dcontour\":[{\"colorbar\":{\"outlinewidth\":0,\"ticks\":\"\"},\"colorscale\":[[0.0,\"#0d0887\"],[0.1111111111111111,\"#46039f\"],[0.2222222222222222,\"#7201a8\"],[0.3333333333333333,\"#9c179e\"],[0.4444444444444444,\"#bd3786\"],[0.5555555555555556,\"#d8576b\"],[0.6666666666666666,\"#ed7953\"],[0.7777777777777778,\"#fb9f3a\"],[0.8888888888888888,\"#fdca26\"],[1.0,\"#f0f921\"]],\"type\":\"histogram2dcontour\"}],\"histogram2d\":[{\"colorbar\":{\"outlinewidth\":0,\"ticks\":\"\"},\"colorscale\":[[0.0,\"#0d0887\"],[0.1111111111111111,\"#46039f\"],[0.2222222222222222,\"#7201a8\"],[0.3333333333333333,\"#9c179e\"],[0.4444444444444444,\"#bd3786\"],[0.5555555555555556,\"#d8576b\"],[0.6666666666666666,\"#ed7953\"],[0.7777777777777778,\"#fb9f3a\"],[0.8888888888888888,\"#fdca26\"],[1.0,\"#f0f921\"]],\"type\":\"histogram2d\"}],\"histogram\":[{\"marker\":{\"colorbar\":{\"outlinewidth\":0,\"ticks\":\"\"}},\"type\":\"histogram\"}],\"mesh3d\":[{\"colorbar\":{\"outlinewidth\":0,\"ticks\":\"\"},\"type\":\"mesh3d\"}],\"parcoords\":[{\"line\":{\"colorbar\":{\"outlinewidth\":0,\"ticks\":\"\"}},\"type\":\"parcoords\"}],\"pie\":[{\"automargin\":true,\"type\":\"pie\"}],\"scatter3d\":[{\"line\":{\"colorbar\":{\"outlinewidth\":0,\"ticks\":\"\"}},\"marker\":{\"colorbar\":{\"outlinewidth\":0,\"ticks\":\"\"}},\"type\":\"scatter3d\"}],\"scattercarpet\":[{\"marker\":{\"colorbar\":{\"outlinewidth\":0,\"ticks\":\"\"}},\"type\":\"scattercarpet\"}],\"scattergeo\":[{\"marker\":{\"colorbar\":{\"outlinewidth\":0,\"ticks\":\"\"}},\"type\":\"scattergeo\"}],\"scattergl\":[{\"marker\":{\"colorbar\":{\"outlinewidth\":0,\"ticks\":\"\"}},\"type\":\"scattergl\"}],\"scattermapbox\":[{\"marker\":{\"colorbar\":{\"outlinewidth\":0,\"ticks\":\"\"}},\"type\":\"scattermapbox\"}],\"scatterpolargl\":[{\"marker\":{\"colorbar\":{\"outlinewidth\":0,\"ticks\":\"\"}},\"type\":\"scatterpolargl\"}],\"scatterpolar\":[{\"marker\":{\"colorbar\":{\"outlinewidth\":0,\"ticks\":\"\"}},\"type\":\"scatterpolar\"}],\"scatter\":[{\"marker\":{\"colorbar\":{\"outlinewidth\":0,\"ticks\":\"\"}},\"type\":\"scatter\"}],\"scatterternary\":[{\"marker\":{\"colorbar\":{\"outlinewidth\":0,\"ticks\":\"\"}},\"type\":\"scatterternary\"}],\"surface\":[{\"colorbar\":{\"outlinewidth\":0,\"ticks\":\"\"},\"colorscale\":[[0.0,\"#0d0887\"],[0.1111111111111111,\"#46039f\"],[0.2222222222222222,\"#7201a8\"],[0.3333333333333333,\"#9c179e\"],[0.4444444444444444,\"#bd3786\"],[0.5555555555555556,\"#d8576b\"],[0.6666666666666666,\"#ed7953\"],[0.7777777777777778,\"#fb9f3a\"],[0.8888888888888888,\"#fdca26\"],[1.0,\"#f0f921\"]],\"type\":\"surface\"}],\"table\":[{\"cells\":{\"fill\":{\"color\":\"#EBF0F8\"},\"line\":{\"color\":\"white\"}},\"header\":{\"fill\":{\"color\":\"#C8D4E3\"},\"line\":{\"color\":\"white\"}},\"type\":\"table\"}]},\"layout\":{\"annotationdefaults\":{\"arrowcolor\":\"#2a3f5f\",\"arrowhead\":0,\"arrowwidth\":1},\"coloraxis\":{\"colorbar\":{\"outlinewidth\":0,\"ticks\":\"\"}},\"colorscale\":{\"diverging\":[[0,\"#8e0152\"],[0.1,\"#c51b7d\"],[0.2,\"#de77ae\"],[0.3,\"#f1b6da\"],[0.4,\"#fde0ef\"],[0.5,\"#f7f7f7\"],[0.6,\"#e6f5d0\"],[0.7,\"#b8e186\"],[0.8,\"#7fbc41\"],[0.9,\"#4d9221\"],[1,\"#276419\"]],\"sequential\":[[0.0,\"#0d0887\"],[0.1111111111111111,\"#46039f\"],[0.2222222222222222,\"#7201a8\"],[0.3333333333333333,\"#9c179e\"],[0.4444444444444444,\"#bd3786\"],[0.5555555555555556,\"#d8576b\"],[0.6666666666666666,\"#ed7953\"],[0.7777777777777778,\"#fb9f3a\"],[0.8888888888888888,\"#fdca26\"],[1.0,\"#f0f921\"]],\"sequentialminus\":[[0.0,\"#0d0887\"],[0.1111111111111111,\"#46039f\"],[0.2222222222222222,\"#7201a8\"],[0.3333333333333333,\"#9c179e\"],[0.4444444444444444,\"#bd3786\"],[0.5555555555555556,\"#d8576b\"],[0.6666666666666666,\"#ed7953\"],[0.7777777777777778,\"#fb9f3a\"],[0.8888888888888888,\"#fdca26\"],[1.0,\"#f0f921\"]]},\"colorway\":[\"#1f77b4\",\"#ff7f0e\",\"#2ca02c\",\"#d62728\",\"#9467bd\",\"#8c564b\",\"#e377c2\",\"#7f7f7f\",\"#bcbd22\",\"#17becf\"],\"font\":{\"color\":\"#2a3f5f\"},\"geo\":{\"bgcolor\":\"white\",\"lakecolor\":\"white\",\"landcolor\":\"white\",\"showlakes\":true,\"showland\":true,\"subunitcolor\":\"#C8D4E3\"},\"hoverlabel\":{\"align\":\"left\"},\"hovermode\":\"closest\",\"mapbox\":{\"style\":\"light\"},\"paper_bgcolor\":\"white\",\"plot_bgcolor\":\"white\",\"polar\":{\"angularaxis\":{\"gridcolor\":\"#EBF0F8\",\"linecolor\":\"#EBF0F8\",\"ticks\":\"\"},\"bgcolor\":\"white\",\"radialaxis\":{\"gridcolor\":\"#EBF0F8\",\"linecolor\":\"#EBF0F8\",\"ticks\":\"\"}},\"scene\":{\"camera\":{\"center\":{\"x\":0,\"y\":0,\"z\":0},\"eye\":{\"x\":2.0,\"y\":2.0,\"z\":2.0},\"up\":{\"x\":0,\"y\":0,\"z\":1}},\"xaxis\":{\"backgroundcolor\":\"white\",\"gridcolor\":\"#DFE8F3\",\"gridwidth\":2,\"linecolor\":\"#EBF0F8\",\"showbackground\":true,\"showspikes\":false,\"ticks\":\"\",\"zerolinecolor\":\"#EBF0F8\"},\"yaxis\":{\"backgroundcolor\":\"white\",\"gridcolor\":\"#DFE8F3\",\"gridwidth\":2,\"linecolor\":\"#EBF0F8\",\"showbackground\":true,\"showspikes\":false,\"ticks\":\"\",\"zerolinecolor\":\"#EBF0F8\"},\"zaxis\":{\"backgroundcolor\":\"white\",\"gridcolor\":\"#DFE8F3\",\"gridwidth\":2,\"linecolor\":\"#EBF0F8\",\"showbackground\":true,\"showspikes\":false,\"ticks\":\"\",\"zerolinecolor\":\"#EBF0F8\"}},\"shapedefaults\":{\"line\":{\"color\":\"#2a3f5f\"}},\"ternary\":{\"aaxis\":{\"gridcolor\":\"#DFE8F3\",\"linecolor\":\"#A2B1C6\",\"ticks\":\"\"},\"baxis\":{\"gridcolor\":\"#DFE8F3\",\"linecolor\":\"#A2B1C6\",\"ticks\":\"\"},\"bgcolor\":\"white\",\"caxis\":{\"gridcolor\":\"#DFE8F3\",\"linecolor\":\"#A2B1C6\",\"ticks\":\"\"}},\"title\":{\"x\":0.05},\"xaxis\":{\"automargin\":true,\"gridcolor\":\"#EBF0F8\",\"linecolor\":\"black\",\"linewidth\":2.0,\"mirror\":true,\"showline\":true,\"ticks\":\"\",\"title\":{\"standoff\":15},\"zeroline\":false,\"zerolinecolor\":\"#EBF0F8\",\"zerolinewidth\":2},\"yaxis\":{\"automargin\":true,\"gridcolor\":\"#EBF0F8\",\"linecolor\":\"black\",\"linewidth\":2.0,\"mirror\":true,\"showline\":true,\"ticks\":\"\",\"title\":{\"standoff\":15},\"zeroline\":false,\"zerolinecolor\":\"#EBF0F8\",\"zerolinewidth\":2}}},\"xaxis\":{\"title\":{\"text\":\"Frequency (rad/s)\"},\"range\":[315.0,1150.0]},\"yaxis\":{\"title\":{\"text\":\"Amplitude (m)\"},\"exponentformat\":\"power\",\"tickformat\":\".3f\"},\"showlegend\":false},                        {\"responsive\": true}                    ).then(function(){\n",
       "                            \n",
       "var gd = document.getElementById('10f8bab1-429e-4c33-9ebe-76ea48e8a4bc');\n",
       "var x = new MutationObserver(function (mutations, observer) {{\n",
       "        var display = window.getComputedStyle(gd).display;\n",
       "        if (!display || display === 'none') {{\n",
       "            console.log([gd, 'removed!']);\n",
       "            Plotly.purge(gd);\n",
       "            observer.disconnect();\n",
       "        }}\n",
       "}});\n",
       "\n",
       "// Listen for the removal of the full notebook cells\n",
       "var notebookContainer = gd.closest('#notebook-container');\n",
       "if (notebookContainer) {{\n",
       "    x.observe(notebookContainer, {childList: true});\n",
       "}}\n",
       "\n",
       "// Listen for the clearing of the current output cell\n",
       "var outputEl = gd.closest('.output');\n",
       "if (outputEl) {{\n",
       "    x.observe(outputEl, {childList: true});\n",
       "}}\n",
       "\n",
       "                        })                };                });            </script>        </div>"
      ]
     },
     "metadata": {},
     "output_type": "display_data"
    }
   ],
   "source": [
    "#-------------------------------------- simulated imbalance response----------------------------------------------------\n",
    "results_sim, fr_sim = getImbalanceResponse(rotor_sim, DISK_NODE, IMBALANCE_MAGNITUDE, IMBALANCE_PHASE, FREQUENCY_RANGE)\n",
    "# plot sim response\n",
    "probe_sim = (1, 0)\n",
    "fig_results_sim = results_sim.plot_magnitude(probe = [probe_sim], probe_units=\"degrees\")\n",
    "fig_results_sim.update_layout(showlegend=False)\n",
    "fig_results_sim.update_layout(yaxis_tickformat = '.3f')\n",
    "\n",
    "# fig_results_sim.show()\n",
    "# fig_results_sim.write_image(\"fr_sim_phase.png\")"
   ]
  },
  {
   "cell_type": "code",
   "execution_count": 7,
   "id": "5bf8d6ca",
   "metadata": {},
   "outputs": [
    {
     "data": {
      "text/plain": [
       "array([7.5836313e-07, 4.9277956e-01])"
      ]
     },
     "execution_count": 7,
     "metadata": {},
     "output_type": "execute_result"
    }
   ],
   "source": [
    "#-------------------------------------- least-squares method-------------------------------------------------------\n",
    "beta_0 = [0,0]\n",
    "def residuals(beta):\n",
    "    mag = beta[0]\n",
    "    ph = beta[1]\n",
    "    _, fr = getImbalanceResponse(rotor_sim, DISK_NODE, mag, ph, FREQUENCY_RANGE)\n",
    "    return np.sum(np.square(np.subtract(fr,observations)),axis = 1)\n",
    "\n",
    "# ensure output of this looks correct\n",
    "\n",
    "result_ls = least_squares(residuals, beta_0)\n",
    "result_ls.x"
   ]
  },
  {
   "cell_type": "code",
   "execution_count": 8,
   "id": "96f6a44b",
   "metadata": {},
   "outputs": [],
   "source": [
    "#-----------------------------------------theano op for rotor model-----------------------------------------------------\n",
    "class RotorModelOp(tt.Op):\n",
    "\n",
    "    itypes = [tt.dvector]  # expects a vector of parameter values when called\n",
    "    otypes = [tt.dmatrix]  # outputs a single scalar value (the log likelihood)\n",
    "\n",
    "    def __init__(self, get_imb_resp,rotor_model, obs_node, frequency_range):\n",
    "        \"\"\"\n",
    "        Initialise with various things that the function requires. Below\n",
    "        are the things that are needed in this particular example.\n",
    "\n",
    "        \"\"\"\n",
    "        # add inputs as class attributes\n",
    "        self.get_imb_resp = get_imb_resp\n",
    "        self.rotor_model = rotor_model\n",
    "        self.obs_node = obs_node\n",
    "        self.frequency_range = frequency_range\n",
    "\n",
    "    def perform(self, node, inputs, outputs):\n",
    "        # the method that is used when calling the Op\n",
    "        (Beta,) = inputs  # this will contain my variables\n",
    "\n",
    "        mag = Beta[0]\n",
    "        ph = Beta[1]\n",
    "\n",
    "        # call the log-likelihood function\n",
    "        _, outputs[0][0] = getImbalanceResponse(self.rotor_model, self.obs_node, mag, ph, self.frequency_range)"
   ]
  },
  {
   "cell_type": "code",
   "execution_count": 9,
   "id": "3a201e65",
   "metadata": {},
   "outputs": [],
   "source": [
    "#------------------------- model config: no discrepancy-----------------------------------------------------------\n",
    "imb_resp_op = RotorModelOp(get_imb_resp=getImbalanceResponse, rotor_model=rotor_sim, obs_node=DISK_NODE, frequency_range=FREQUENCY_RANGE)\n",
    "rotor_model = pm.Model()\n",
    "\n",
    "with rotor_model:\n",
    "    # Priors for unknown model parameters\n",
    "    mag_rand = pm.HalfNormal('mag_rand', sigma=0.05) # magnitude is always positive\n",
    "    phase_rand = pm.Uniform('phase_rand', lower = 0, upper = math.pi ) # radians\n",
    "\n",
    "    Beta = tt.as_tensor_variable([mag_rand, phase_rand])\n",
    "\n",
    "    mu = imb_resp_op(Beta)\n",
    "\n",
    "    # Likelihood (sampling distribution) of observations\n",
    "    Y_obs = pm.Normal(\"Y_obs\", mu=mu, sigma=SIGMA_TRUE, observed=observations)\n"
   ]
  },
  {
   "cell_type": "code",
   "execution_count": 10,
   "id": "4351449a",
   "metadata": {},
   "outputs": [],
   "source": [
    "# #------------------------------------------model config: with discrepancy-----------------------------------------\n",
    "# # create op\n",
    "# imb_resp_op = RotorModelOp(get_imb_resp=getImbalanceResponse, rotor_model=rotor_sim, obs_node=DISK_NODE, frequency_range=FREQUENCY_RANGE)\n",
    "# rotor_model = pm.Model()\n",
    "\n",
    "# X = FREQUENCY_RANGE.reshape((-1,1))\n",
    "\n",
    "# with rotor_model:\n",
    "#     # gaussian process hyper-parameters\n",
    "#     length_scale = pm.Bound(pm.Gamma, upper = 4)(\"length_scale\", alpha=5, beta=5) # taken from discrepancy modeling paper\n",
    "#     # eta = pm.HalfCauchy('eta', beta=5)\n",
    "\n",
    "#     # define covariance matrix\n",
    "#     # cov_func = (eta**2) * pm.gp.cov.ExpQuad(1, ls=length_scale)\n",
    "#     cov_func = pm.gp.cov.ExpQuad(1, ls=length_scale)\n",
    "#     Sigma = cov_func(X) + np.eye(SAMPLES)*SIGMA_TRUE**2 # gaussian process covariance + noise covariance\n",
    "\n",
    "#     # Priors for unknown model parameters\n",
    "#     mag_rand = pm.HalfNormal('mag_rand', sigma=0.05) # magnitude is always positive\n",
    "#     phase_rand = pm.Uniform('phase_rand', lower = 0, upper = 2*math.pi ) # radians\n",
    "\n",
    "#     Beta = tt.as_tensor_variable([mag_rand, phase_rand])\n",
    "    \n",
    "#     # mean (gaussian process is zero mean)\n",
    "#     mu = imb_resp_op(Beta)\n",
    "\n",
    "#     # Likelihood (sampling distribution) of observations\n",
    "#     Y_obs = pm.MvNormal(\"Y_obs\", mu=mu, cov=Sigma, observed=observations)\n",
    "\n",
    "\n"
   ]
  },
  {
   "cell_type": "code",
   "execution_count": 11,
   "id": "cd3bbdb5",
   "metadata": {},
   "outputs": [
    {
     "name": "stderr",
     "output_type": "stream",
     "text": [
      "Sequential sampling (4 chains in 1 job)\n",
      "CompoundStep\n",
      ">Metropolis: [phase_rand]\n",
      ">Metropolis: [mag_rand]\n"
     ]
    },
    {
     "data": {
      "text/html": [
       "\n",
       "<style>\n",
       "    /* Turns off some styling */\n",
       "    progress {\n",
       "        /* gets rid of default border in Firefox and Opera. */\n",
       "        border: none;\n",
       "        /* Needs to be in here for Safari polyfill so background images work as expected. */\n",
       "        background-size: auto;\n",
       "    }\n",
       "    .progress-bar-interrupted, .progress-bar-interrupted::-webkit-progress-bar {\n",
       "        background: #F44336;\n",
       "    }\n",
       "</style>\n"
      ],
      "text/plain": [
       "<IPython.core.display.HTML object>"
      ]
     },
     "metadata": {},
     "output_type": "display_data"
    },
    {
     "data": {
      "text/html": [
       "\n",
       "    <div>\n",
       "      <progress value='3000' class='' max='3000' style='width:300px; height:20px; vertical-align: middle;'></progress>\n",
       "      100.00% [3000/3000 1:27:55<00:00 Sampling chain 0, 0 divergences]\n",
       "    </div>\n",
       "    "
      ],
      "text/plain": [
       "<IPython.core.display.HTML object>"
      ]
     },
     "metadata": {},
     "output_type": "display_data"
    },
    {
     "name": "stderr",
     "output_type": "stream",
     "text": [
      "C:\\Users\\rrameshbabu6\\Anaconda3\\envs\\pymc_env\\lib\\site-packages\\pymc3\\step_methods\\metropolis.py:226: RuntimeWarning:\n",
      "\n",
      "overflow encountered in exp\n",
      "\n"
     ]
    },
    {
     "data": {
      "text/html": [
       "\n",
       "<style>\n",
       "    /* Turns off some styling */\n",
       "    progress {\n",
       "        /* gets rid of default border in Firefox and Opera. */\n",
       "        border: none;\n",
       "        /* Needs to be in here for Safari polyfill so background images work as expected. */\n",
       "        background-size: auto;\n",
       "    }\n",
       "    .progress-bar-interrupted, .progress-bar-interrupted::-webkit-progress-bar {\n",
       "        background: #F44336;\n",
       "    }\n",
       "</style>\n"
      ],
      "text/plain": [
       "<IPython.core.display.HTML object>"
      ]
     },
     "metadata": {},
     "output_type": "display_data"
    },
    {
     "data": {
      "text/html": [
       "\n",
       "    <div>\n",
       "      <progress value='3000' class='' max='3000' style='width:300px; height:20px; vertical-align: middle;'></progress>\n",
       "      100.00% [3000/3000 1:27:37<00:00 Sampling chain 1, 0 divergences]\n",
       "    </div>\n",
       "    "
      ],
      "text/plain": [
       "<IPython.core.display.HTML object>"
      ]
     },
     "metadata": {},
     "output_type": "display_data"
    },
    {
     "data": {
      "text/html": [
       "\n",
       "<style>\n",
       "    /* Turns off some styling */\n",
       "    progress {\n",
       "        /* gets rid of default border in Firefox and Opera. */\n",
       "        border: none;\n",
       "        /* Needs to be in here for Safari polyfill so background images work as expected. */\n",
       "        background-size: auto;\n",
       "    }\n",
       "    .progress-bar-interrupted, .progress-bar-interrupted::-webkit-progress-bar {\n",
       "        background: #F44336;\n",
       "    }\n",
       "</style>\n"
      ],
      "text/plain": [
       "<IPython.core.display.HTML object>"
      ]
     },
     "metadata": {},
     "output_type": "display_data"
    },
    {
     "data": {
      "text/html": [
       "\n",
       "    <div>\n",
       "      <progress value='3000' class='' max='3000' style='width:300px; height:20px; vertical-align: middle;'></progress>\n",
       "      100.00% [3000/3000 1:27:59<00:00 Sampling chain 2, 0 divergences]\n",
       "    </div>\n",
       "    "
      ],
      "text/plain": [
       "<IPython.core.display.HTML object>"
      ]
     },
     "metadata": {},
     "output_type": "display_data"
    },
    {
     "data": {
      "text/html": [
       "\n",
       "<style>\n",
       "    /* Turns off some styling */\n",
       "    progress {\n",
       "        /* gets rid of default border in Firefox and Opera. */\n",
       "        border: none;\n",
       "        /* Needs to be in here for Safari polyfill so background images work as expected. */\n",
       "        background-size: auto;\n",
       "    }\n",
       "    .progress-bar-interrupted, .progress-bar-interrupted::-webkit-progress-bar {\n",
       "        background: #F44336;\n",
       "    }\n",
       "</style>\n"
      ],
      "text/plain": [
       "<IPython.core.display.HTML object>"
      ]
     },
     "metadata": {},
     "output_type": "display_data"
    },
    {
     "data": {
      "text/html": [
       "\n",
       "    <div>\n",
       "      <progress value='3000' class='' max='3000' style='width:300px; height:20px; vertical-align: middle;'></progress>\n",
       "      100.00% [3000/3000 1:28:10<00:00 Sampling chain 3, 0 divergences]\n",
       "    </div>\n",
       "    "
      ],
      "text/plain": [
       "<IPython.core.display.HTML object>"
      ]
     },
     "metadata": {},
     "output_type": "display_data"
    },
    {
     "name": "stderr",
     "output_type": "stream",
     "text": [
      "Sampling 4 chains for 2_000 tune and 1_000 draw iterations (8_000 + 4_000 draws total) took 21102 seconds.\n",
      "The rhat statistic is larger than 1.2 for some parameters.\n",
      "The estimated number of effective samples is smaller than 200 for some parameters.\n"
     ]
    }
   ],
   "source": [
    "#--------------------------------------------sample-----------------------------------------------------------------\n",
    "with rotor_model:\n",
    "    step = pm.Metropolis()\n",
    "    # no discrepancy\n",
    "    # trace = pm.sample(6000, step = step, tune = 3000, chains = 2, return_inferencedata=False, cores=1)\n",
    "    # discrepancy\n",
    "    trace = pm.sample(tune = 2000,chains = 4, cores = 1, step = step, return_inferencedata=True)\n"
   ]
  },
  {
   "cell_type": "code",
   "execution_count": 12,
   "id": "c130d925",
   "metadata": {},
   "outputs": [
    {
     "name": "stdout",
     "output_type": "stream",
     "text": [
      "saving trace\n"
     ]
    }
   ],
   "source": [
    "#---------------------------------------------save trace------------------------------------------------------------\n",
    "experiment = \"test6\"\n",
    "with rotor_model:\n",
    "    print('saving trace')\n",
    "    #pickle.dump(trace, open( \"trace_discrepancy.p\", \"wb\" ) )\n",
    "    trace.to_netcdf(\"trace_\"+experiment+\".nc\")"
   ]
  },
  {
   "cell_type": "code",
   "execution_count": 43,
   "id": "ac8e1da8",
   "metadata": {},
   "outputs": [
    {
     "name": "stdout",
     "output_type": "stream",
     "text": [
      "loading trace\n",
      "summarizing trace\n",
      "              mean      sd  hdi_3%  hdi_97%  mcse_mean  mcse_sd  ess_bulk  \\\n",
      "mag_rand    0.0216  0.0171  0.0000   0.0527     0.0008   0.0006  334.4659   \n",
      "phase_rand  0.2642  0.0008  0.2632   0.2663     0.0002   0.0002   15.1583   \n",
      "\n",
      "            ess_tail   r_hat  \n",
      "mag_rand    345.6384  1.0166  \n",
      "phase_rand   44.4156  1.3274  \n",
      "plotting trace\n"
     ]
    },
    {
     "data": {
      "image/png": "[encoded data removed]",
      "text/plain": [
       "<Figure size 993.6x331.2 with 2 Axes>"
      ]
     },
     "metadata": {
      "needs_background": "light"
     },
     "output_type": "display_data"
    }
   ],
   "source": [
    "#------------------------------------ load trace and post process---------------------------------------------------\n",
    "experiment = \"test4\"\n",
    "with rotor_model:    \n",
    "    print('loading trace')\n",
    "    #trace = pickle.load(open(\"trace_discrepancy.p\", \"rb\"))\n",
    "    trace = az.from_netcdf(\"trace_\"+experiment+\".nc\")\n",
    "    \n",
    "    print('summarizing trace')\n",
    "    print(az.summary(trace, round_to=4))\n",
    "    print('plotting trace')\n",
    "    ax1, ax2 = az.plot_posterior(trace, point_estimate = None, hdi_prob = 'hide')\n",
    "    plt.tight_layout()\n",
    "    ax1.set_title('Magnitude Posterior Distribution')\n",
    "    gt_mag, = ax1.plot(0.03,0,marker=\"o\", markersize=10, markerfacecolor=\"red\", label = 'ground truth magnitude')\n",
    "    pm_mag, = ax1.plot(0.0216,0,marker=\"o\", markersize=10, markerfacecolor=\"blue\", label = 'magnitude posterior mean')\n",
    "    ax1.legend(handles = [gt_mag, pm_mag])\n",
    "\n",
    "    \n",
    "    ax2.set_title('Phase Posterior Distribution')\n",
    "    gt_phase, = ax2.plot(0,0,marker=\"o\", markersize=10, markerfacecolor=\"red\", label = 'ground truth phase')\n",
    "    pm_phase, = ax2.plot(0.2642,0,marker=\"o\", markersize=10, markerfacecolor=\"blue\", label = 'phase posterior mean')\n",
    "    ax2.legend(handles = [gt_phase, pm_phase])\n",
    "\n",
    "    \n",
    "    \n",
    "    # fig = axes.ravel()[0].figure\n",
    "    # fig.savefig(experiment+\".png\")"
   ]
  },
  {
   "cell_type": "code",
   "execution_count": 14,
   "id": "a0281b21",
   "metadata": {},
   "outputs": [],
   "source": [
    "# # Bayesian formulation with discrepancy (second) method\n",
    "\n",
    "# # solve with bayesian inference, model discrepancy included\n",
    "# X = FREQUENCY_RANGE.reshape((-1,1))\n",
    "\n",
    "# discrepancy_gp_model = pm.Model()\n",
    "# class Blackbox_Model(pm.gp.mean.Mean):\n",
    "#     def __init__(self, Beta, rotor_model=rotor_sim, obs_node=DISK_NODE):\n",
    "#         self.Beta = Beta\n",
    "#         self.rotor_model = rotor_model\n",
    "#         self.obs_node = DISK_NODE\n",
    "        \n",
    "\n",
    "#     def __call__(self, x):\n",
    "#         # return simulator prediction given theta and X\n",
    "#         x = x.reshape((-1,))\n",
    "#         imb_resp_op = RotorModelOp(get_imb_resp=getImbalanceResponse, rotor_model=self.rotor_model, obs_node=self.obs_node, frequency_range=x)\n",
    "#         return imb_resp_op(Beta)\n",
    "\n",
    "# print('done')\n",
    "\n",
    "# with discrepancy_gp_model:\n",
    "#     # priors on parameters\n",
    "#     # half-normal distribution may be biasing it to be larger\n",
    "#     # Priors for unknown model parameters\n",
    "#     mag_rand = pm.HalfNormal('mag_rand', sigma=0.4) # magnitude is always positive\n",
    "#     phase_rand = pm.Uniform('phase_rand', lower = 0, upper = 2*math.pi ) # radians\n",
    "\n",
    "#     Beta = tt.as_tensor_variable([mag_rand, phase_rand])\n",
    "    \n",
    "#     # priors for GP covariance\n",
    "#     length_scale = pm.Bound(pm.Gamma, upper = 4)(\"length_scale\", alpha=5, beta=5) # taken from discrepancy modeling paper\n",
    "#     eta = pm.HalfCauchy('eta', beta=5)\n",
    "\n",
    "#     # prior on discrepancy function (zero mean)\n",
    "#     mean_func = Blackbox_Model(Beta)\n",
    "#     cov_func = (eta**2) * pm.gp.cov.ExpQuad(1, ls=length_scale)\n",
    "#     gp = pm.gp.Marginal(mean_func= mean_func, cov_func = cov_func)\n",
    "\n",
    "#     # discrepancy = gp.prior(\"discrepancy\", X = X)\n",
    "#     y_ = gp.marginal_likelihood(\"y\", X=X, y=observations, noise = SIGMA_TRUE)\n",
    "\n",
    "#     # run inference\n",
    "#     step = pm.Metropolis()\n",
    "#     #trace = pm.sample(10, tune = 40, step = step, chains = 2, return_inferencedata=True)\n",
    "#     trace = pm.sample(1000, tune = 4000, step = step, chains = 2, return_inferencedata=True)\n",
    "    \n",
    "#     #print(az.summary(trace, round_to=2))\n",
    "\n",
    "#     plt.show()"
   ]
  },
  {
   "cell_type": "code",
   "execution_count": 15,
   "id": "0c78d952",
   "metadata": {},
   "outputs": [
    {
     "data": {
      "text/plain": [
       "0.009600000000000004"
      ]
     },
     "execution_count": 15,
     "metadata": {},
     "output_type": "execute_result"
    }
   ],
   "source": [
    "(abs(0.0396 - 0.03))\n",
    "\n",
    "# (abs(0.2642 - 0))"
   ]
  },
  {
   "cell_type": "code",
   "execution_count": 16,
   "id": "5fb37064",
   "metadata": {},
   "outputs": [
    {
     "data": {
      "text/plain": [
       "0.0016044700000000002"
      ]
     },
     "execution_count": 16,
     "metadata": {},
     "output_type": "execute_result"
    }
   ],
   "source": [
    "abs(0.02839553- 0.03)"
   ]
  }
 ],
 "metadata": {
  "kernelspec": {
   "display_name": "Python 3 (ipykernel)",
   "language": "python",
   "name": "python3"
  },
  "language_info": {
   "codemirror_mode": {
    "name": "ipython",
    "version": 3
   },
   "file_extension": ".py",
   "mimetype": "text/x-python",
   "name": "python",
   "nbconvert_exporter": "python",
   "pygments_lexer": "ipython3",
   "version": "3.10.4"
  }
 },
 "nbformat": 4,
 "nbformat_minor": 5
}
